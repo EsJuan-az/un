{
 "cells": [
  {
   "cell_type": "code",
   "execution_count": null,
   "metadata": {},
   "outputs": [],
   "source": [
    "import pandas as pd\n",
    "import numpy as np\n",
    "df = pd.read_csv('horror.csv')\n",
    "df"
   ]
  },
  {
   "cell_type": "code",
   "execution_count": null,
   "metadata": {},
   "outputs": [],
   "source": [
    "# Primeros cinco elementos.\n",
    "df.head(5)"
   ]
  },
  {
   "cell_type": "code",
   "execution_count": null,
   "metadata": {},
   "outputs": [],
   "source": [
    "# Longitúd.\n",
    "len(df)"
   ]
  },
  {
   "cell_type": "code",
   "execution_count": null,
   "metadata": {},
   "outputs": [],
   "source": [
    "# Todos los encabezados.\n",
    "df.set_index('Movie Title')\n",
    "df['Movie Title'].apply(print)\n",
    "None"
   ]
  },
  {
   "cell_type": "code",
   "execution_count": 5,
   "metadata": {},
   "outputs": [],
   "source": [
    "# Películas a partir del 1980.\n",
    "sub = df[df['Movie Year'] >= 1980]"
   ]
  },
  {
   "cell_type": "code",
   "execution_count": null,
   "metadata": {},
   "outputs": [],
   "source": [
    "shortest = sub.iloc[sub['Runtime'].argmin()]\n",
    "print(f'Película más corta {shortest[\"Movie Title\"]} con {shortest[\"Runtime\"]} minutos')\n",
    "sub['Profit'] = sub['Gross'].str.extract(r'\\$(?P<profit>[\\d\\.]+)M').astype(np.float64)\n",
    "least_profit = sub.iloc[sub['Profit'].argmin()]\n",
    "print(f'Película menos rentable {least_profit[\"Movie Title\"]} con {least_profit[\"Profit\"]} millones.')\n",
    "print(f'Promedio de duración {sub[\"Runtime\"].mean()}')"
   ]
  },
  {
   "cell_type": "code",
   "execution_count": null,
   "metadata": {},
   "outputs": [],
   "source": [
    "# Desviación\n",
    "sub['Rating'].astype(np.float64).std()"
   ]
  },
  {
   "cell_type": "code",
   "execution_count": null,
   "metadata": {},
   "outputs": [],
   "source": [
    "# Arreglo votes\n",
    "if(df['Votes'].dtype != np.int64):\n",
    "  df['Votes'] = df['Votes'].str.replace(',', '').astype(np.int64)\n",
    "\n",
    "if(df['Genre'].dtype == np.object_):\n",
    "  df['Genre'] = df['Genre'].str.split(', ')\n",
    "# Votos por género\n",
    "newdf = df.explode('Genre')\n",
    "newdf.groupby('Genre').aggregate({'Votes': np.mean}).round(2)\n"
   ]
  },
  {
   "cell_type": "code",
   "execution_count": null,
   "metadata": {},
   "outputs": [],
   "source": [
    "# Ocurrencias de directores\n",
    "df['Director'].value_counts()"
   ]
  },
  {
   "cell_type": "code",
   "execution_count": null,
   "metadata": {},
   "outputs": [],
   "source": [
    "# Mejores películas con Horror, Mistery, Sci-Fi\n",
    "masking = df['Genre'].apply(lambda genres: 'Horror' in genres and 'Mystery' in genres and 'Sci-Fi' in genres)\n",
    "besto_movie = df[masking]['Rating'].argmax()\n",
    "print(f'La mejor película con estos tres géneros es {df[masking].iloc[besto_movie][\"Movie Title\"]}')"
   ]
  }
 ],
 "metadata": {
  "kernelspec": {
   "display_name": "base",
   "language": "python",
   "name": "python3"
  },
  "language_info": {
   "codemirror_mode": {
    "name": "ipython",
    "version": 3
   },
   "file_extension": ".py",
   "mimetype": "text/x-python",
   "name": "python",
   "nbconvert_exporter": "python",
   "pygments_lexer": "ipython3",
   "version": "3.11.8"
  }
 },
 "nbformat": 4,
 "nbformat_minor": 2
}
